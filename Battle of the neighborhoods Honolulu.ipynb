{
 "cells": [
  {
   "cell_type": "markdown",
   "metadata": {},
   "source": [
    "# Course Applied Data Science Project\n",
    "## Week 4\n",
    "### Title of project: Battle of the Neighborhoods\n",
    "### City of choice: Honolulu, Hawaii\n",
    "#### Part 1: a description of the problem and a discussion of the backgroound\n",
    "#### Part 2: a description of the data and how it will be used to solve the problem"
   ]
  },
  {
   "cell_type": "markdown",
   "metadata": {},
   "source": [
    "### Honolulu, background information"
   ]
  },
  {
   "cell_type": "markdown",
   "metadata": {},
   "source": [
    "#####          Honolulu, on the island of Oahu’s south shore, is capital of Hawaii and gateway to the U.S. island chain. holiday makers will first think about the Waikiki neighborhood being the center for dining, nightlife and shopping, famed for its iconic crescent beach backed by palms and high-rise hotels, with volcanic Diamond Head crater looming in the distance. there are also sites relating to the World War II attack on Pearl Harbor include the USS Arizona Memorial. It has an area of 177.2 km² and a population of 351,792 (as of 2016)."
   ]
  },
  {
   "cell_type": "markdown",
   "metadata": {},
   "source": [
    "### Descrition of the problem"
   ]
  },
  {
   "cell_type": "markdown",
   "metadata": {},
   "source": [
    "##### There is a plethora of information for tourists, yet little background resources to be offered to those who wish to become permanent residents in the area. For example, for the typical couple desirious to find a good neighborhood for buying their own house and raise their own family there is little information to be offerd, therefore, this project will be aimed at providing a search algorithm that returns the requested features. "
   ]
  },
  {
   "cell_type": "markdown",
   "metadata": {},
   "source": [
    "##### Usually people tend to explore the areas they have in view for a potential change in dwelling and this process involves many factors that need to be comprised in a neighborhood analysis. That calls for a search algorithm that returns the requested feature, such as: population rate, average house prices, school ratings, crime rates, weather conditions, recreational facilities etc. In this context it would be highly commendable to have access to a hassle-free application that could split out an extensive analysis of all these characteristics for a neighborhood or a comparative analysis between neighborhoods."
   ]
  },
  {
   "cell_type": "markdown",
   "metadata": {},
   "source": [
    "#### Description of the data"
   ]
  },
  {
   "cell_type": "markdown",
   "metadata": {},
   "source": [
    "##### Datasets and APIs:"
   ]
  },
  {
   "cell_type": "markdown",
   "metadata": {},
   "source": [
    "##### This project will use Foursquare API as its prime data gathering source as it has a database of more than 105 million places. The decision to use this particular APi has been taken also taking in consideration the fact that Foursquare provides data analysts/developers with the means to perform location search, location sharing and details about business, photos, tips and reviews that can be processed to add value to the results."
   ]
  },
  {
   "cell_type": "markdown",
   "metadata": {},
   "source": [
    "##### Work Flow:"
   ]
  },
  {
   "cell_type": "markdown",
   "metadata": {},
   "source": [
    "##### HTTP requests will be made to the Fourquare API server using zip codes of the Honolulu city neighborhoods to pull  the latitude and the longitude/ location information needed for further coding. Furthermore, Foursquare API search feature would be enabled to collect the nearby places of the neighborhoods. Due to http request limitations the parameters will be set the most efficient value. "
   ]
  },
  {
   "cell_type": "markdown",
   "metadata": {},
   "source": [
    "##### Folium - Python visualization library would be used to show the neighborhoods cluster distribution in Honolulu over an interactive leaflet map."
   ]
  },
  {
   "cell_type": "markdown",
   "metadata": {},
   "source": [
    "##### Python's libraries: Pandas, NumPy and  Scikit-learn among others will be used for extensive comparative analysis of two neighborhoods in order to derive the desired insights. Many pythonian packages and dependencies will be needed to perform the coding: JSON, GeoPy, requests, Matplotlib, etc."
   ]
  },
  {
   "cell_type": "markdown",
   "metadata": {},
   "source": [
    "##### K-means clustering( an unsupervised machine learning algorithm) will be used in order to form the clusters of different categories of places residing in and around the neighborhoods. These clusters  from each of the two chosen neighborhoods will be analyzed individually, collectively and comparatively to derive the conclusions."
   ]
  },
  {
   "cell_type": "markdown",
   "metadata": {},
   "source": [
    "### Conclusion"
   ]
  },
  {
   "cell_type": "markdown",
   "metadata": {},
   "source": [
    "##### Hopefully, after taking the proper path towards our goal this project will provide the future residents of Honolulu with the necessary facts and figures necessary to make an informed decision in view of the most suitable neighborhood to buy property and raise their family.                  "
   ]
  }
 ],
 "metadata": {
  "kernelspec": {
   "display_name": "Python 3",
   "language": "python",
   "name": "python3"
  },
  "language_info": {
   "codemirror_mode": {
    "name": "ipython",
    "version": 3
   },
   "file_extension": ".py",
   "mimetype": "text/x-python",
   "name": "python",
   "nbconvert_exporter": "python",
   "pygments_lexer": "ipython3",
   "version": "3.6.5"
  }
 },
 "nbformat": 4,
 "nbformat_minor": 2
}
