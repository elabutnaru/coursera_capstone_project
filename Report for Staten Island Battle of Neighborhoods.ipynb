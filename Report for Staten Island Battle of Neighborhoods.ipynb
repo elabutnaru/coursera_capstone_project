{
 "cells": [
  {
   "cell_type": "markdown",
   "metadata": {},
   "source": [
    "# Coursera Applied Data Science Project - Week 5\n",
    "\n",
    "## Report\n",
    "\n",
    "### Title of project: Battle of Neighborhoods\n",
    "### City of choice: Staten Island, New York, USA\n"
   ]
  },
  {
   "cell_type": "markdown",
   "metadata": {},
   "source": [
    "### Staten Island, background information"
   ]
  },
  {
   "cell_type": "markdown",
   "metadata": {},
   "source": [
    "##### Staten Island /ˌstætən ˈaɪlənd/ is the southernmost and westernmost of the five boroughs of New York City in the U.S. state of New York. Located in the southwest portion of the city, Staten Island is the southernmost part of both the city and state of New York, with Conference House Park located at the southern tip of the island. \n",
    "\n",
    "##### The North Shore—especially **the neighborhoods** of St. George, Tompkinsville, Clifton, and Stapleton—is the most urban part of the island; it contains the designated St. George Historic District and the St. Paul's Avenue-Stapleton Heights Historic District, which feature large Victorian houses. The East Shore is home to the 2.5-mile (4 km) F.D.R. Boardwalk, the fourth-longest boardwalk in the world.[6] The South Shore, site of the 17th-century Dutch and French Huguenot settlement, developed rapidly beginning in the 1960s and 1970s and is now mostly suburban in character. The West Shore is the least populated and most industrial part of the island."
   ]
  },
  {
   "cell_type": "markdown",
   "metadata": {},
   "source": [
    "### Description of the problem and clients' background"
   ]
  },
  {
   "cell_type": "markdown",
   "metadata": {},
   "source": [
    "##### Even though Staten Island is one of the fastest growing areas in the US there is a plethora of information for tourists, yet little background resources to be offered to those who wish to become permanent residents in the area. For example, for the typical couple desirous to find a good neighborhood for buying their own house and raise their own family there is little information to be offered."
   ]
  },
  {
   "cell_type": "markdown",
   "metadata": {},
   "source": [
    "##### Usually people tend to explore the areas they have in view for a potential change in dwelling and this process involves many factors that need to be comprised in a neighborhood analysis. That calls for a search algorithm that returns the requested feature, such as: population rate, average house prices, school ratings, crime rates, weather conditions, recreational facilities etc. In this context I am going to perform an extensive analysis of some of these characteristics for a neighborhood or a comparative analysis between neighborhoods."
   ]
  },
  {
   "cell_type": "markdown",
   "metadata": {},
   "source": [
    "##### **The clients** I have in view are a young couple that is overwhelmed by the sheer number of neighborhoods in Staten Island and have difficulty in grasping their best option in terms of beginning a business and buying property in Staten Island in view of raising their growing family. "
   ]
  },
  {
   "cell_type": "markdown",
   "metadata": {},
   "source": [
    "##### There are 62 neighborhoods and their search is very specifically oriented on **3 features:**\n",
    "##### a. **Education**.The clients want a neighborhood with an excellent school.\n",
    "##### b. **Housing price**.Their budget for a house/flat cannot exceed 500,000 dollars\n",
    "##### c. **Business**. Their business plan is to open a vegetarian restaurant and would like to avoid any competition from a nearby similar venue"
   ]
  },
  {
   "cell_type": "markdown",
   "metadata": {},
   "source": [
    "#### Description of the data"
   ]
  },
  {
   "cell_type": "markdown",
   "metadata": {},
   "source": [
    "##### Datasets and APIs:"
   ]
  },
  {
   "cell_type": "markdown",
   "metadata": {},
   "source": [
    "##### This project has used Foursquare API as its prime data gathering source as it has a database of more than 105 million places. The decision to use this particular APi has been taken also taking in consideration the fact that Foursquare provides data analysts/developers with the means to perform location search, location sharing and details about business, photos, tips and reviews that can be processed to add value to the results."
   ]
  },
  {
   "cell_type": "markdown",
   "metadata": {},
   "source": [
    "##### Furthermore, in view of creating a dataframe for School Rating in Staten Island I've used https://www.greatschools.org/"
   ]
  },
  {
   "cell_type": "markdown",
   "metadata": {},
   "source": [
    "##### I also needed the average housing price per neighborhood and used https://www.zillow.com/staten-island-new-york-ny/"
   ]
  },
  {
   "cell_type": "markdown",
   "metadata": {},
   "source": [
    "##### Work Flow:"
   ]
  },
  {
   "cell_type": "markdown",
   "metadata": {},
   "source": [
    "##### HTTP requests have been made to the Fourquare API server using zip codes of Staten Island neighborhoods to pull  the latitude and the longitude/ location information needed for further coding. Furthermore, Foursquare API search feature had been enabled to collect the nearby places of the neighborhoods. Due to http request limitations the parameters have been set to the most efficient value. "
   ]
  },
  {
   "cell_type": "markdown",
   "metadata": {},
   "source": [
    "##### Folium - Python visualization library has been used to show the neighborhoods cluster distribution in Staten Island over an interactive leaflet map."
   ]
  },
  {
   "cell_type": "markdown",
   "metadata": {},
   "source": [
    "##### Python's libraries: Pandas, NumPy and  Scikit-learn among others have been used for extensive comparative analysis of two neighborhoods in order to derive the desired insights. Many pythonian packages and dependencies will be needed to perform the coding: JSON, GeoPy, requests, Matplotlib, etc."
   ]
  },
  {
   "cell_type": "markdown",
   "metadata": {},
   "source": [
    "##### K-means clustering( an unsupervised machine learning algorithm) have been used in order to form the clusters of different categories of places residing in and around the neighborhoods. These clusters  have been analyzed individually, collectively and comparatively."
   ]
  },
  {
   "cell_type": "markdown",
   "metadata": {},
   "source": [
    "##### New dataframes have been created to analyze the neighborhoods according to the rating of the schools, and the housing price."
   ]
  },
  {
   "cell_type": "markdown",
   "metadata": {},
   "source": [
    "### Conclusion"
   ]
  },
  {
   "cell_type": "markdown",
   "metadata": {},
   "source": [
    "##### After taking the proper path towards my goal, getting acquainted with the 62 neighborhoods in Staten Island and excluding those that do not conform to the features identified by my clients, this project will provide the future residents of Staten Island with the necessary facts and figures useful to make an informed decision in view of the most suitable neighborhood to buy property and raise their family.                  "
   ]
  },
  {
   "cell_type": "markdown",
   "metadata": {},
   "source": [
    "##### Among the 62, only **Travis Neighborhood** can be recommended as having the required characteristics: it has a school with a very high rating(9/10), affordable housing prices and no other vegetarian restaurant in the neighborhood."
   ]
  },
  {
   "cell_type": "markdown",
   "metadata": {},
   "source": [
    "Thank you for your time!"
   ]
  }
 ],
 "metadata": {
  "kernelspec": {
   "display_name": "Python 3",
   "language": "python",
   "name": "python3"
  },
  "language_info": {
   "codemirror_mode": {
    "name": "ipython",
    "version": 3
   },
   "file_extension": ".py",
   "mimetype": "text/x-python",
   "name": "python",
   "nbconvert_exporter": "python",
   "pygments_lexer": "ipython3",
   "version": "3.6.5"
  }
 },
 "nbformat": 4,
 "nbformat_minor": 2
}
